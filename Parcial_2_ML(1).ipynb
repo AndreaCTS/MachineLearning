{
  "cells": [
    {
      "cell_type": "markdown",
      "source": [
        "<p align=\"center\">\n",
        "<FONT FACE=\"times new roman\" SIZE=5>\n",
        "<i><b >Parcial Segundo Corte</i>\n",
        "\n",
        "<i><b>Docente:</b> Ricardo Fonseca</i>\n",
        "<br>\n",
        "<i><b>Asignatura:</b> Aprendizaje de Máquina</i>\n",
        "<br>\n",
        "<i><b>Estudiante:</b> Laura García, Andrea Terraza, Isabella Martinez</i>\n",
        "<br>\n",
        "<i>30/04/2024</i>\n",
        "<br>\n",
        "</FONT>\n",
        "</p>"
      ],
      "metadata": {
        "id": "3MwaPRSJVcZV"
      }
    },
    {
      "cell_type": "code",
      "source": [
        "!pip install gdown"
      ],
      "metadata": {
        "id": "s2jHHDT1ocVq",
        "colab": {
          "base_uri": "https://localhost:8080/"
        },
        "outputId": "07a09490-31eb-4d53-e30c-9872dae0157d"
      },
      "execution_count": null,
      "outputs": [
        {
          "output_type": "stream",
          "name": "stdout",
          "text": [
            "Requirement already satisfied: gdown in /usr/local/lib/python3.10/dist-packages (5.1.0)\n",
            "Requirement already satisfied: beautifulsoup4 in /usr/local/lib/python3.10/dist-packages (from gdown) (4.12.3)\n",
            "Requirement already satisfied: filelock in /usr/local/lib/python3.10/dist-packages (from gdown) (3.13.4)\n",
            "Requirement already satisfied: requests[socks] in /usr/local/lib/python3.10/dist-packages (from gdown) (2.31.0)\n",
            "Requirement already satisfied: tqdm in /usr/local/lib/python3.10/dist-packages (from gdown) (4.66.2)\n",
            "Requirement already satisfied: soupsieve>1.2 in /usr/local/lib/python3.10/dist-packages (from beautifulsoup4->gdown) (2.5)\n",
            "Requirement already satisfied: charset-normalizer<4,>=2 in /usr/local/lib/python3.10/dist-packages (from requests[socks]->gdown) (3.3.2)\n",
            "Requirement already satisfied: idna<4,>=2.5 in /usr/local/lib/python3.10/dist-packages (from requests[socks]->gdown) (3.7)\n",
            "Requirement already satisfied: urllib3<3,>=1.21.1 in /usr/local/lib/python3.10/dist-packages (from requests[socks]->gdown) (2.0.7)\n",
            "Requirement already satisfied: certifi>=2017.4.17 in /usr/local/lib/python3.10/dist-packages (from requests[socks]->gdown) (2024.2.2)\n",
            "Requirement already satisfied: PySocks!=1.5.7,>=1.5.6 in /usr/local/lib/python3.10/dist-packages (from requests[socks]->gdown) (1.7.1)\n"
          ]
        }
      ]
    },
    {
      "cell_type": "code",
      "execution_count": null,
      "metadata": {
        "id": "sUxZLRsrPWO6"
      },
      "outputs": [],
      "source": [
        "import sys\n",
        "import matplotlib.pyplot as plt\n",
        "from packaging import version\n",
        "from sklearn.svm import SVC\n",
        "from sklearn.metrics import accuracy_score\n",
        "from pathlib import Path\n",
        "import urllib.request\n",
        "import pandas as pd\n",
        "import numpy as np\n",
        "import requests\n",
        "import tarfile\n",
        "import sklearn\n",
        "import gdown\n",
        "import os\n",
        "assert sys.version_info >= (3 ,7)\n",
        "assert version.parse(sklearn.__version__) >= version.parse(\"1.0.1\")"
      ]
    },
    {
      "cell_type": "markdown",
      "source": [
        "# 2. Cargue y exploración del dataset"
      ],
      "metadata": {
        "id": "Y5UPUgfKdNMw"
      }
    },
    {
      "cell_type": "markdown",
      "source": [
        "a) Cree un script para cargar el archivo cifar10_data.npz.\n",
        "-----"
      ],
      "metadata": {
        "id": "OPDTC61gchHe"
      }
    },
    {
      "cell_type": "code",
      "execution_count": null,
      "metadata": {
        "id": "aUYb59Mlk0rC"
      },
      "outputs": [],
      "source": [
        "def load_data(gdrive_id, output_path, output_file):\n",
        "    # Construye la URL de Google Drive y la ruta de salida completa\n",
        "    url = f'https://drive.google.com/uc?id={gdrive_id}'\n",
        "    output = os.path.join(output_path, output_file)\n",
        "\n",
        "    # Crear la carpeta si no existe\n",
        "    if not os.path.exists(output_path):\n",
        "        os.makedirs(output_path)\n",
        "        print(f\"Carpeta creada: {output_path}\")\n",
        "\n",
        "    gdown.download(url, output, quiet=False)\n",
        "\n",
        "    training_data = None\n",
        "    test_data = None\n",
        "    training_labels = None\n",
        "\n",
        "    # Intenta cargar el archivo .npz y asignar los datos a variables\n",
        "    try:\n",
        "        with np.load(output, allow_pickle=True) as data:\n",
        "            training_data = data['training_data']\n",
        "            training_labels = data['training_labels']\n",
        "            test_data = data['test_data']\n",
        "            print(\"Datos cargados correctamente:\")\n",
        "            return training_data, training_labels, test_data\n",
        "    except Exception as e:\n",
        "        print(f\"Error al carga el archivo npz: {e}\")\n",
        "        return None, None, None"
      ]
    },
    {
      "cell_type": "code",
      "execution_count": null,
      "metadata": {
        "id": "nRkCrTgdmtRE",
        "colab": {
          "base_uri": "https://localhost:8080/"
        },
        "outputId": "f979d14e-edff-4ada-d63d-470c74d8765d"
      },
      "outputs": [
        {
          "output_type": "stream",
          "name": "stdout",
          "text": [
            "Carpeta creada: /content/datasets\n"
          ]
        },
        {
          "output_type": "stream",
          "name": "stderr",
          "text": [
            "Downloading...\n",
            "From (original): https://drive.google.com/uc?id=1GO2H4N2Q_SXRWznGEeEvwkCF74vtJjGz\n",
            "From (redirected): https://drive.google.com/uc?id=1GO2H4N2Q_SXRWznGEeEvwkCF74vtJjGz&confirm=t&uuid=3745e1f8-7b80-43ed-8c26-64aa9078ca30\n",
            "To: /content/datasets/cifar10-data.npz\n",
            "100%|██████████| 185M/185M [00:01<00:00, 95.0MB/s]\n"
          ]
        },
        {
          "output_type": "stream",
          "name": "stdout",
          "text": [
            "Datos cargados correctamente:\n"
          ]
        }
      ],
      "source": [
        "gdrive_id = '1GO2H4N2Q_SXRWznGEeEvwkCF74vtJjGz'\n",
        "output_path = '/content/datasets'\n",
        "output_file = 'cifar10-data.npz'\n",
        "data = load_data(gdrive_id, output_path, output_file)"
      ]
    },
    {
      "cell_type": "code",
      "source": [
        "if data:\n",
        "    training_data, training_labels, test_data = data\n",
        "else:\n",
        "    print(\"Error al cargar los datos\")"
      ],
      "metadata": {
        "id": "hHB_gEyvnnqD"
      },
      "execution_count": null,
      "outputs": []
    },
    {
      "cell_type": "code",
      "source": [
        "print(data)"
      ],
      "metadata": {
        "id": "nRpy914eoFNv",
        "colab": {
          "base_uri": "https://localhost:8080/"
        },
        "outputId": "9db88fe6-d417-408b-fe83-b236b75f2254"
      },
      "execution_count": null,
      "outputs": [
        {
          "output_type": "stream",
          "name": "stdout",
          "text": [
            "(array([[169, 174, 175, ...,   1,   1,   0],\n",
            "       [179, 185, 186, ..., 202, 198, 197],\n",
            "       [ 62,  62,  63, ..., 113, 114, 115],\n",
            "       ...,\n",
            "       [175, 174, 175, ..., 191, 190, 190],\n",
            "       [214, 212, 220, ...,  60,  69,  79],\n",
            "       [128, 122, 125, ..., 127, 127, 128]], dtype=uint8), array([3, 8, 9, ..., 2, 9, 5]), array([[ 93,  95,  95, ..., 157, 158, 155],\n",
            "       [211, 208, 198, ..., 250, 244, 223],\n",
            "       [ 87,  89,  90, ..., 185, 183, 189],\n",
            "       ...,\n",
            "       [123, 122, 122, ..., 167, 162, 157],\n",
            "       [150, 151, 151, ...,  69,  40,  55],\n",
            "       [195, 196, 206, ...,  83,  83,  80]], dtype=uint8))\n"
          ]
        }
      ]
    },
    {
      "cell_type": "code",
      "source": [
        "training_data"
      ],
      "metadata": {
        "colab": {
          "base_uri": "https://localhost:8080/"
        },
        "id": "eW_PnWffkQRc",
        "outputId": "330a497e-40b8-4c38-88cf-0f8c2432cc8e"
      },
      "execution_count": null,
      "outputs": [
        {
          "output_type": "execute_result",
          "data": {
            "text/plain": [
              "array([[169, 174, 175, ...,   1,   1,   0],\n",
              "       [179, 185, 186, ..., 202, 198, 197],\n",
              "       [ 62,  62,  63, ..., 113, 114, 115],\n",
              "       ...,\n",
              "       [175, 174, 175, ..., 191, 190, 190],\n",
              "       [214, 212, 220, ...,  60,  69,  79],\n",
              "       [128, 122, 125, ..., 127, 127, 128]], dtype=uint8)"
            ]
          },
          "metadata": {},
          "execution_count": 7
        }
      ]
    },
    {
      "cell_type": "code",
      "source": [
        "test_data"
      ],
      "metadata": {
        "colab": {
          "base_uri": "https://localhost:8080/"
        },
        "id": "632fgthMkhRX",
        "outputId": "264f894f-d5fc-4685-e204-a4f10dd83ac4"
      },
      "execution_count": null,
      "outputs": [
        {
          "output_type": "execute_result",
          "data": {
            "text/plain": [
              "array([[ 93,  95,  95, ..., 157, 158, 155],\n",
              "       [211, 208, 198, ..., 250, 244, 223],\n",
              "       [ 87,  89,  90, ..., 185, 183, 189],\n",
              "       ...,\n",
              "       [123, 122, 122, ..., 167, 162, 157],\n",
              "       [150, 151, 151, ...,  69,  40,  55],\n",
              "       [195, 196, 206, ...,  83,  83,  80]], dtype=uint8)"
            ]
          },
          "metadata": {},
          "execution_count": 8
        }
      ]
    },
    {
      "cell_type": "markdown",
      "source": [
        "Los array impresos representan los datos de entrenamiento y prueba, específicamente, los valores de píxeles de imágenes que son parte del conjunto de datos CIFAR-10, dado que el patrón y el rango de valores (0-255) coinciden con lo que esperaríamos de imágenes en formato de color RGB almacenadas en una matriz numérica.\n",
        "\n",
        "Cada fila del array representa una imagen aplanada, con el valor de cada elemento del array correspondiente a la intensidad de un píxel en la imagen. Los valores están entre 0 y 255, lo cual es típico para imágenes codificadas en 8 bits por canal."
      ],
      "metadata": {
        "id": "bKK57TCTT6wd"
      }
    },
    {
      "cell_type": "markdown",
      "source": [
        "b) Explore los puntos de muestra y explique sus características. Revise si es necesario preprocesar. Debe justificar la elección de los procesos realizados\n",
        "----\n"
      ],
      "metadata": {
        "id": "oU-SgifudDuE"
      }
    },
    {
      "cell_type": "markdown",
      "source": [
        "**Descripción de los datos**"
      ],
      "metadata": {
        "id": "Ho12GPU4lDqN"
      }
    },
    {
      "cell_type": "code",
      "source": [
        "def describe_data(data, name=\"Array\"):\n",
        "    print(f\"Estadísticas descriptivas para {name}:\")\n",
        "    print(f\"Tipo de datos: {data.dtype}\")\n",
        "    print(f\"Tamaño del arreglo: {data.shape}\")\n",
        "    print(f\"Valor mínimo: {data.min()}\")\n",
        "    print(f\"Valor máximo: {data.max()}\")\n",
        "    print(f\"Media: {data.mean():.4f}\")\n",
        "    print(f\"Mediana: {np.median(data):.4f}\")\n",
        "    print(f\"Desviación estándar: {data.std():.4f}\")\n",
        "    print(f\"Varianza: {data.var():.4f}\\n\")"
      ],
      "metadata": {
        "id": "SOmSJ6_ghN2B"
      },
      "execution_count": null,
      "outputs": []
    },
    {
      "cell_type": "code",
      "source": [
        "describe_data(training_data, \"Training Data\")"
      ],
      "metadata": {
        "id": "qE3Fs2nehYHz",
        "colab": {
          "base_uri": "https://localhost:8080/"
        },
        "outputId": "7718c476-5a78-4bab-df94-bf61e7a08d2b"
      },
      "execution_count": null,
      "outputs": [
        {
          "output_type": "stream",
          "name": "stdout",
          "text": [
            "Estadísticas descriptivas para Training Data:\n",
            "Tipo de datos: uint8\n",
            "Tamaño del arreglo: (50000, 3072)\n",
            "Valor mínimo: 0\n",
            "Valor máximo: 255\n",
            "Media: 120.8290\n",
            "Mediana: 117.0000\n",
            "Desviación estándar: 64.1193\n",
            "Varianza: 4111.2860\n",
            "\n"
          ]
        }
      ]
    },
    {
      "cell_type": "markdown",
      "source": [
        "El conjunto de datos consiste en 50,000 muestras, donde cada muestra está representada por un vector de características de longitud 3,072. Estas características están codificadas como enteros sin signo de 8 bits (uint8), lo que indica que los valores varían entre 0 y 255, lo que significa que las características están representadas como valores de intensidad de píxeles en imágenes RGB. La media del conjunto de datos es de aproximadamente 120.83, con una mediana de 117. La desviación estándar de aproximadamente 64.12 indica una dispersión considerable en los valores de las características. Esto implica que las características pueden tener una amplia variabilidad y pueden no estar normalizadas. La varianza de 4,111.29 proporciona una medida de la dispersión de los datos alrededor de la media"
      ],
      "metadata": {
        "id": "KkJg1pUhfLG9"
      }
    },
    {
      "cell_type": "markdown",
      "source": [
        "Cada imagen proviene de un formato original que es 32x32 píxeles RGB (dado que 32 * 32 * 3 = 3072)"
      ],
      "metadata": {
        "id": "5vMtzTRhspMc"
      }
    },
    {
      "cell_type": "code",
      "source": [
        "describe_data(training_labels, \"Training Labels\")"
      ],
      "metadata": {
        "id": "ncqPsUXWhnJ3",
        "colab": {
          "base_uri": "https://localhost:8080/"
        },
        "outputId": "d41e760f-8a93-4149-857d-e1b3a2da4383"
      },
      "execution_count": null,
      "outputs": [
        {
          "output_type": "stream",
          "name": "stdout",
          "text": [
            "Estadísticas descriptivas para Training Labels:\n",
            "Tipo de datos: int64\n",
            "Tamaño del arreglo: (50000,)\n",
            "Valor mínimo: 0\n",
            "Valor máximo: 9\n",
            "Media: 4.4990\n",
            "Mediana: 5.0000\n",
            "Desviación estándar: 2.8751\n",
            "Varianza: 8.2660\n",
            "\n"
          ]
        }
      ]
    },
    {
      "cell_type": "markdown",
      "source": [
        " Las etiquetas de entrenamiento son representadas como enteros de 64 bits (int64) y constan de un total de 50,000 muestras. La presencia de valores enteros entre 0 y 9 como el mínimo y el máximo sugiere que las etiquetas están codificadas como números enteros que representan clases o categorías específicas. Con una media de aproximadamente 4.5 y una mediana de 5.0, observamos una distribución aparentemente uniforme de las etiquetas, indicando que las clases están relativamente bien balanceadas. La varianza de 8.2660 proporciona una medida adicional de la dispersión de las etiquetas alrededor de la media."
      ],
      "metadata": {
        "id": "Cy3fB2zufgws"
      }
    },
    {
      "cell_type": "code",
      "source": [
        "unique_labels, label_counts = np.unique(training_labels, return_counts=True)\n",
        "print(\"Etiquetas únicas:\", unique_labels)\n",
        "print(\"Frecuencia de cada etiqueta:\", label_counts)"
      ],
      "metadata": {
        "id": "Bfi014Hhh6Gr",
        "colab": {
          "base_uri": "https://localhost:8080/"
        },
        "outputId": "5a80460a-f8eb-44b8-df92-a75684155152"
      },
      "execution_count": null,
      "outputs": [
        {
          "output_type": "stream",
          "name": "stdout",
          "text": [
            "Etiquetas únicas: [0 1 2 3 4 5 6 7 8 9]\n",
            "Frecuencia de cada etiqueta: [5045 4984 4985 4988 4993 4998 5006 4990 4996 5015]\n"
          ]
        }
      ]
    },
    {
      "cell_type": "markdown",
      "source": [
        "Tenemos 10 clases en nuestro training_labels, que van desde 0 a 9 y se ve balanceado la cantidad de etiquetas de cada clase"
      ],
      "metadata": {
        "id": "avwo9jICtFzg"
      }
    },
    {
      "cell_type": "code",
      "source": [
        "describe_data(test_data, \"Test Data\")"
      ],
      "metadata": {
        "id": "7Aj4XnjBhpUX",
        "colab": {
          "base_uri": "https://localhost:8080/"
        },
        "outputId": "ea292ffa-dd13-45f8-b9fa-da896513085f"
      },
      "execution_count": null,
      "outputs": [
        {
          "output_type": "stream",
          "name": "stdout",
          "text": [
            "Estadísticas descriptivas para Test Data:\n",
            "Tipo de datos: uint8\n",
            "Tamaño del arreglo: (10000, 3072)\n",
            "Valor mínimo: 0\n",
            "Valor máximo: 255\n",
            "Media: 120.9218\n",
            "Mediana: 117.0000\n",
            "Desviación estándar: 64.2191\n",
            "Varianza: 4124.0946\n",
            "\n"
          ]
        }
      ]
    },
    {
      "cell_type": "markdown",
      "source": [
        "El tipo de datos uint8 (entero sin signo de 8 bits) es común en imágenes porque cada byte  representar un valor de pixel de una imagen que varía de 0 a 255"
      ],
      "metadata": {
        "id": "zHDDSJ1igWbN"
      }
    },
    {
      "cell_type": "code",
      "source": [
        "first_image = training_data[0]\n",
        "\n",
        "# Conocemos el tamaño de la imagen (32x32)\n",
        "height = 32\n",
        "width = 32\n",
        "\n",
        "# Calcular el número de canales\n",
        "num_channels = first_image.size // (height * width)\n",
        "\n",
        "print(f\"El número de canales de la imagen es: {num_channels}\")"
      ],
      "metadata": {
        "id": "I-buio3cumBL",
        "colab": {
          "base_uri": "https://localhost:8080/"
        },
        "outputId": "1e223879-c6ba-44f1-d796-66c75943ffdb"
      },
      "execution_count": null,
      "outputs": [
        {
          "output_type": "stream",
          "name": "stdout",
          "text": [
            "El número de canales de la imagen es: 3\n"
          ]
        }
      ]
    },
    {
      "cell_type": "code",
      "source": [
        "training_data_original = training_data\n",
        "test_data_original = test_data\n",
        "training_labels_original = training_labels"
      ],
      "metadata": {
        "id": "PZfOwv4PHoeL"
      },
      "execution_count": null,
      "outputs": []
    },
    {
      "cell_type": "markdown",
      "source": [
        "Dado que las dimensiones de training_data viene en (50000,3072), siendo imágenes en RGB, toda la imagen en un solo canal pero las dimensiones originales son 32x32x3 , representando (altura,ancho,canales) se procede a hacer la transfomación de dimensionalidad para que cada imagen quede con 3 canales"
      ],
      "metadata": {
        "id": "bZoZyoY90IcH"
      }
    },
    {
      "cell_type": "code",
      "source": [
        "def transform_images(images):\n",
        "    transformed_images = images.reshape(-1, 3, 32, 32).transpose(0, 2, 3, 1)\n",
        "    return transformed_images\n",
        "\n",
        "# Transforma los datos de entrenamiento y prueba\n",
        "training_data = transform_images(training_data)\n",
        "test_data = transform_images(test_data)"
      ],
      "metadata": {
        "id": "HzErh_2q03jp"
      },
      "execution_count": null,
      "outputs": []
    },
    {
      "cell_type": "code",
      "source": [
        "def plot_images(images, labels, nrows, ncols):\n",
        "    fig, axes = plt.subplots(nrows, ncols, figsize=(15, 6))\n",
        "    fig.suptitle('CIFAR-10 Training Images')\n",
        "    for i, ax in enumerate(axes.flat):\n",
        "        if i < len(images):\n",
        "            ax.imshow(images[i].reshape(32, 32, 3), cmap='binary')\n",
        "            ax.set_xticks([])\n",
        "            ax.set_yticks([])\n",
        "            ax.set_xlabel(f\"Label: {labels[i]}\")\n",
        "    plt.show()\n",
        "\n",
        "plot_images(training_data, training_labels, 2, 5)"
      ],
      "metadata": {
        "id": "B-tGhyzuiXAc",
        "colab": {
          "base_uri": "https://localhost:8080/",
          "height": 480
        },
        "outputId": "08b697d9-505c-41f8-bf40-4e49729fa756"
      },
      "execution_count": null,
      "outputs": [
        {
          "output_type": "display_data",
          "data": {
            "text/plain": [
              "<Figure size 1500x600 with 10 Axes>"
            ],
            "image/png": "[encoded data removed]"
          },
          "metadata": {}
        }
      ]
    },
    {
      "cell_type": "markdown",
      "source": [
        "Las etiquetas de training_labels representan las siguientes clases :\n",
        "\n",
        "0 -> Avión\n",
        "\n",
        "1 -> Carro\n",
        "\n",
        "2 -> Ave\n",
        "\n",
        "3 -> Gato\n",
        "\n",
        "4 -> Siervo\n",
        "\n",
        "5 -> Perro\n",
        "\n",
        "6 -> Rana\n",
        "\n",
        "7 -> Caballo\n",
        "\n",
        "8 -> Barco\n",
        "\n",
        "9 -> Camión"
      ],
      "metadata": {
        "id": "seOp-Vqd2byj"
      }
    },
    {
      "cell_type": "markdown",
      "source": [
        "Con las estadísticas y visualizaciones generadas, podemos decir que los datos están en buena forma para ser usados en modelos de machine learning. La normalización de los datos sera el siguiente paso más importante antes de proceder con el entrenamiento del modelo."
      ],
      "metadata": {
        "id": "QqmrGdZOmCul"
      }
    },
    {
      "cell_type": "markdown",
      "source": [
        " **Preprocesamiento de Datos**\n"
      ],
      "metadata": {
        "id": "GVD0_xxRk13C"
      }
    },
    {
      "cell_type": "markdown",
      "source": [
        "Normalización de los datos\n",
        "\n",
        "Al normalizar los valores de los píxeles de imágenes a un rango entre 0 y 1 (al dividir por 255, dado que los píxeles varían entre 0 y 255), se ayuda a que el algoritmo de optimización del modelo (como el descenso del gradiente) converja más rápidamente. Esto se debe a que los valores de entrada más pequeños y en un rango uniforme pueden reducir el tiempo que se necesita para encontrar los mínimos de la función de pérdida."
      ],
      "metadata": {
        "id": "OqKFzgIWkjF2"
      }
    },
    {
      "cell_type": "code",
      "source": [
        "training_data = training_data.astype('float32') / 255.0\n",
        "test_data = test_data.astype('float32')/255.0"
      ],
      "metadata": {
        "id": "D4kVNHZGklWk"
      },
      "execution_count": null,
      "outputs": []
    },
    {
      "cell_type": "code",
      "source": [
        "training_data"
      ],
      "metadata": {
        "id": "QFiAwEbJkot5",
        "colab": {
          "base_uri": "https://localhost:8080/"
        },
        "outputId": "626e5a76-4491-46de-8a32-cb542dcc10d8"
      },
      "execution_count": null,
      "outputs": [
        {
          "output_type": "execute_result",
          "data": {
            "text/plain": [
              "array([[[[0.6627451 , 0.6627451 , 0.6627451 ],\n",
              "         [0.68235296, 0.68235296, 0.68235296],\n",
              "         [0.6862745 , 0.6862745 , 0.6862745 ],\n",
              "         ...,\n",
              "         [0.        , 0.        , 0.        ],\n",
              "         [0.01176471, 0.01176471, 0.01176471],\n",
              "         [0.00784314, 0.00784314, 0.00784314]],\n",
              "\n",
              "        [[0.7176471 , 0.7176471 , 0.7176471 ],\n",
              "         [0.72156864, 0.72156864, 0.72156864],\n",
              "         [0.7137255 , 0.7137255 , 0.7137255 ],\n",
              "         ...,\n",
              "         [0.00392157, 0.00392157, 0.00392157],\n",
              "         [0.09411765, 0.09411765, 0.09411765],\n",
              "         [0.11372549, 0.11372549, 0.11372549]],\n",
              "\n",
              "        [[0.7490196 , 0.7490196 , 0.7490196 ],\n",
              "         [0.74509805, 0.74509805, 0.74509805],\n",
              "         [0.73333335, 0.73333335, 0.73333335],\n",
              "         ...,\n",
              "         [0.01176471, 0.01176471, 0.01176471],\n",
              "         [0.2       , 0.2       , 0.2       ],\n",
              "         [0.3137255 , 0.3137255 , 0.3137255 ]],\n",
              "\n",
              "        ...,\n",
              "\n",
              "        [[0.00392157, 0.00392157, 0.00392157],\n",
              "         [0.        , 0.        , 0.        ],\n",
              "         [0.00392157, 0.00392157, 0.00392157],\n",
              "         ...,\n",
              "         [0.00392157, 0.00392157, 0.00392157],\n",
              "         [0.        , 0.        , 0.        ],\n",
              "         [0.        , 0.        , 0.        ]],\n",
              "\n",
              "        [[0.        , 0.        , 0.        ],\n",
              "         [0.        , 0.        , 0.        ],\n",
              "         [0.        , 0.        , 0.        ],\n",
              "         ...,\n",
              "         [0.00392157, 0.00392157, 0.00392157],\n",
              "         [0.00392157, 0.00392157, 0.00392157],\n",
              "         [0.        , 0.        , 0.        ]],\n",
              "\n",
              "        [[0.        , 0.        , 0.        ],\n",
              "         [0.        , 0.        , 0.        ],\n",
              "         [0.        , 0.        , 0.        ],\n",
              "         ...,\n",
              "         [0.00392157, 0.00392157, 0.00392157],\n",
              "         [0.00392157, 0.00392157, 0.00392157],\n",
              "         [0.        , 0.        , 0.        ]]],\n",
              "\n",
              "\n",
              "       [[[0.7019608 , 0.69803923, 0.72156864],\n",
              "         [0.7254902 , 0.72156864, 0.74509805],\n",
              "         [0.7294118 , 0.7254902 , 0.7490196 ],\n",
              "         ...,\n",
              "         [0.6431373 , 0.654902  , 0.6901961 ],\n",
              "         [0.6392157 , 0.6509804 , 0.68235296],\n",
              "         [0.6627451 , 0.6745098 , 0.70980394]],\n",
              "\n",
              "        [[0.70980394, 0.7058824 , 0.7294118 ],\n",
              "         [0.7254902 , 0.72156864, 0.74509805],\n",
              "         [0.7411765 , 0.7372549 , 0.7607843 ],\n",
              "         ...,\n",
              "         [0.69411767, 0.7058824 , 0.7411765 ],\n",
              "         [0.7019608 , 0.7137255 , 0.7490196 ],\n",
              "         [0.69803923, 0.70980394, 0.74509805]],\n",
              "\n",
              "        [[0.7176471 , 0.7137255 , 0.7372549 ],\n",
              "         [0.7372549 , 0.73333335, 0.75686276],\n",
              "         [0.7294118 , 0.7254902 , 0.7490196 ],\n",
              "         ...,\n",
              "         [0.69803923, 0.70980394, 0.74509805],\n",
              "         [0.6862745 , 0.69803923, 0.73333335],\n",
              "         [0.69803923, 0.70980394, 0.74509805]],\n",
              "\n",
              "        ...,\n",
              "\n",
              "        [[0.7372549 , 0.7490196 , 0.76862746],\n",
              "         [0.7372549 , 0.7490196 , 0.76862746],\n",
              "         [0.7372549 , 0.7490196 , 0.77254903],\n",
              "         ...,\n",
              "         [0.68235296, 0.6666667 , 0.69803923],\n",
              "         [0.72156864, 0.7411765 , 0.7607843 ],\n",
              "         [0.7372549 , 0.76862746, 0.78431374]],\n",
              "\n",
              "        [[0.7529412 , 0.7647059 , 0.7882353 ],\n",
              "         [0.7490196 , 0.7607843 , 0.78039217],\n",
              "         [0.75686276, 0.76862746, 0.7882353 ],\n",
              "         ...,\n",
              "         [0.7019608 , 0.70980394, 0.7411765 ],\n",
              "         [0.7254902 , 0.7490196 , 0.7764706 ],\n",
              "         [0.7294118 , 0.75686276, 0.78039217]],\n",
              "\n",
              "        [[0.7529412 , 0.7647059 , 0.78431374],\n",
              "         [0.7529412 , 0.7647059 , 0.78431374],\n",
              "         [0.76862746, 0.78039217, 0.8       ],\n",
              "         ...,\n",
              "         [0.7294118 , 0.75686276, 0.7921569 ],\n",
              "         [0.7137255 , 0.74509805, 0.7764706 ],\n",
              "         [0.70980394, 0.7372549 , 0.77254903]]],\n",
              "\n",
              "\n",
              "       [[[0.24313726, 0.3137255 , 0.45882353],\n",
              "         [0.24313726, 0.30980393, 0.45490196],\n",
              "         [0.24705882, 0.31764707, 0.4627451 ],\n",
              "         ...,\n",
              "         [0.10588235, 0.11372549, 0.11372549],\n",
              "         [0.10588235, 0.10196079, 0.11372549],\n",
              "         [0.13725491, 0.14117648, 0.14901961]],\n",
              "\n",
              "        [[0.20392157, 0.27450982, 0.41568628],\n",
              "         [0.2       , 0.27450982, 0.4117647 ],\n",
              "         [0.20392157, 0.28235295, 0.41960785],\n",
              "         ...,\n",
              "         [0.11372549, 0.12156863, 0.12156863],\n",
              "         [0.14509805, 0.15294118, 0.15686275],\n",
              "         [0.16470589, 0.16862746, 0.1764706 ]],\n",
              "\n",
              "        [[0.18431373, 0.2627451 , 0.40392157],\n",
              "         [0.18039216, 0.25882354, 0.39607844],\n",
              "         [0.1882353 , 0.27058825, 0.40784314],\n",
              "         ...,\n",
              "         [0.15686275, 0.17254902, 0.17254902],\n",
              "         [0.16862746, 0.18039216, 0.1882353 ],\n",
              "         [0.13333334, 0.13725491, 0.14509805]],\n",
              "\n",
              "        ...,\n",
              "\n",
              "        [[0.3764706 , 0.42352942, 0.40392157],\n",
              "         [0.35686275, 0.40784314, 0.3882353 ],\n",
              "         [0.34509805, 0.39215687, 0.3764706 ],\n",
              "         ...,\n",
              "         [0.4117647 , 0.45882353, 0.44313726],\n",
              "         [0.41960785, 0.46666667, 0.44705883],\n",
              "         [0.43137255, 0.47843137, 0.4627451 ]],\n",
              "\n",
              "        [[0.37254903, 0.41960785, 0.40392157],\n",
              "         [0.37254903, 0.41960785, 0.40392157],\n",
              "         [0.37254903, 0.41960785, 0.40392157],\n",
              "         ...,\n",
              "         [0.39607844, 0.44313726, 0.43137255],\n",
              "         [0.41568628, 0.4627451 , 0.4509804 ],\n",
              "         [0.44705883, 0.49411765, 0.47843137]],\n",
              "\n",
              "        [[0.38431373, 0.43137255, 0.41568628],\n",
              "         [0.38431373, 0.43137255, 0.41568628],\n",
              "         [0.38431373, 0.43137255, 0.41568628],\n",
              "         ...,\n",
              "         [0.39607844, 0.44313726, 0.44313726],\n",
              "         [0.40392157, 0.4509804 , 0.44705883],\n",
              "         [0.41568628, 0.4627451 , 0.4509804 ]]],\n",
              "\n",
              "\n",
              "       ...,\n",
              "\n",
              "\n",
              "       [[[0.6862745 , 0.75686276, 0.8117647 ],\n",
              "         [0.68235296, 0.7529412 , 0.80784315],\n",
              "         [0.6862745 , 0.75686276, 0.80784315],\n",
              "         ...,\n",
              "         [0.6313726 , 0.69411767, 0.75686276],\n",
              "         [0.627451  , 0.69411767, 0.75686276],\n",
              "         [0.62352943, 0.6901961 , 0.7529412 ]],\n",
              "\n",
              "        [[0.69803923, 0.76862746, 0.8235294 ],\n",
              "         [0.69411767, 0.7647059 , 0.81960785],\n",
              "         [0.69803923, 0.76862746, 0.8235294 ],\n",
              "         ...,\n",
              "         [0.6392157 , 0.7058824 , 0.76862746],\n",
              "         [0.6392157 , 0.7058824 , 0.76862746],\n",
              "         [0.63529414, 0.7019608 , 0.7647059 ]],\n",
              "\n",
              "        [[0.69411767, 0.7647059 , 0.81960785],\n",
              "         [0.6901961 , 0.7607843 , 0.8156863 ],\n",
              "         [0.6901961 , 0.7607843 , 0.8156863 ],\n",
              "         ...,\n",
              "         [0.63529414, 0.7019608 , 0.7647059 ],\n",
              "         [0.6313726 , 0.69803923, 0.7607843 ],\n",
              "         [0.627451  , 0.69411767, 0.75686276]],\n",
              "\n",
              "        ...,\n",
              "\n",
              "        [[0.68235296, 0.74509805, 0.8039216 ],\n",
              "         [0.68235296, 0.74509805, 0.8039216 ],\n",
              "         [0.68235296, 0.74509805, 0.8039216 ],\n",
              "         ...,\n",
              "         [0.6313726 , 0.7019608 , 0.75686276],\n",
              "         [0.627451  , 0.69803923, 0.7529412 ],\n",
              "         [0.627451  , 0.69803923, 0.7529412 ]],\n",
              "\n",
              "        [[0.6901961 , 0.7529412 , 0.8117647 ],\n",
              "         [0.6862745 , 0.7490196 , 0.80784315],\n",
              "         [0.6862745 , 0.7490196 , 0.80784315],\n",
              "         ...,\n",
              "         [0.63529414, 0.7058824 , 0.7607843 ],\n",
              "         [0.6313726 , 0.7019608 , 0.7607843 ],\n",
              "         [0.6313726 , 0.7019608 , 0.75686276]],\n",
              "\n",
              "        [[0.6745098 , 0.7372549 , 0.79607844],\n",
              "         [0.67058825, 0.73333335, 0.7921569 ],\n",
              "         [0.67058825, 0.7372549 , 0.79607844],\n",
              "         ...,\n",
              "         [0.627451  , 0.69411767, 0.7490196 ],\n",
              "         [0.62352943, 0.6901961 , 0.74509805],\n",
              "         [0.61960787, 0.6901961 , 0.74509805]]],\n",
              "\n",
              "\n",
              "       [[[0.8392157 , 0.8901961 , 0.9490196 ],\n",
              "         [0.83137256, 0.88235295, 0.9411765 ],\n",
              "         [0.8627451 , 0.9137255 , 0.96862745],\n",
              "         ...,\n",
              "         [0.8156863 , 0.99215686, 0.9843137 ],\n",
              "         [0.8235294 , 0.98039216, 0.99215686],\n",
              "         [0.7921569 , 0.9647059 , 0.99215686]],\n",
              "\n",
              "        [[0.68235296, 0.7411765 , 0.8039216 ],\n",
              "         [0.72156864, 0.78039217, 0.84705883],\n",
              "         [0.77254903, 0.827451  , 0.89411765],\n",
              "         ...,\n",
              "         [0.90588236, 0.9882353 , 0.9882353 ],\n",
              "         [0.8980392 , 0.9843137 , 0.99215686],\n",
              "         [0.85490197, 0.9764706 , 0.9882353 ]],\n",
              "\n",
              "        [[0.6039216 , 0.6509804 , 0.7137255 ],\n",
              "         [0.64705884, 0.69411767, 0.75686276],\n",
              "         [0.7176471 , 0.76862746, 0.83137256],\n",
              "         ...,\n",
              "         [0.9607843 , 0.9843137 , 0.99215686],\n",
              "         [0.94509804, 0.9764706 , 0.9882353 ],\n",
              "         [0.9098039 , 0.98039216, 0.9843137 ]],\n",
              "\n",
              "        ...,\n",
              "\n",
              "        [[0.39215687, 0.40392157, 0.44705883],\n",
              "         [0.40392157, 0.41568628, 0.4509804 ],\n",
              "         [0.4117647 , 0.42352942, 0.45490196],\n",
              "         ...,\n",
              "         [0.16470589, 0.20392157, 0.2901961 ],\n",
              "         [0.2       , 0.24705882, 0.33333334],\n",
              "         [0.20392157, 0.25882354, 0.34509805]],\n",
              "\n",
              "        [[0.39607844, 0.40392157, 0.42352942],\n",
              "         [0.40784314, 0.41568628, 0.43529412],\n",
              "         [0.42352942, 0.42745098, 0.45490196],\n",
              "         ...,\n",
              "         [0.16862746, 0.2       , 0.27450982],\n",
              "         [0.2       , 0.23921569, 0.3254902 ],\n",
              "         [0.20784314, 0.25490198, 0.34901962]],\n",
              "\n",
              "        [[0.36862746, 0.3764706 , 0.33333334],\n",
              "         [0.39215687, 0.39215687, 0.3882353 ],\n",
              "         [0.40784314, 0.40392157, 0.43137255],\n",
              "         ...,\n",
              "         [0.16078432, 0.18431373, 0.23529412],\n",
              "         [0.1764706 , 0.20784314, 0.27058825],\n",
              "         [0.1882353 , 0.22745098, 0.30980393]]],\n",
              "\n",
              "\n",
              "       [[[0.5019608 , 0.47843137, 0.37254903],\n",
              "         [0.47843137, 0.45490196, 0.3529412 ],\n",
              "         [0.49019608, 0.46666667, 0.3647059 ],\n",
              "         ...,\n",
              "         [0.2       , 0.21176471, 0.27058825],\n",
              "         [0.21176471, 0.22745098, 0.25882354],\n",
              "         [0.25490198, 0.2784314 , 0.2901961 ]],\n",
              "\n",
              "        [[0.49803922, 0.4745098 , 0.37254903],\n",
              "         [0.4862745 , 0.4627451 , 0.36078432],\n",
              "         [0.5058824 , 0.48235294, 0.38039216],\n",
              "         ...,\n",
              "         [0.19607843, 0.20784314, 0.2509804 ],\n",
              "         [0.22352941, 0.23921569, 0.27450982],\n",
              "         [0.26666668, 0.28627452, 0.3019608 ]],\n",
              "\n",
              "        [[0.5058824 , 0.48235294, 0.38039216],\n",
              "         [0.5058824 , 0.48235294, 0.38039216],\n",
              "         [0.49019608, 0.46666667, 0.36078432],\n",
              "         ...,\n",
              "         [0.20392157, 0.21176471, 0.23921569],\n",
              "         [0.23529412, 0.25490198, 0.2901961 ],\n",
              "         [0.25882354, 0.27450982, 0.3019608 ]],\n",
              "\n",
              "        ...,\n",
              "\n",
              "        [[0.48235294, 0.49803922, 0.50980395],\n",
              "         [0.49803922, 0.5137255 , 0.5254902 ],\n",
              "         [0.5058824 , 0.52156866, 0.53333336],\n",
              "         ...,\n",
              "         [0.4627451 , 0.4745098 , 0.5019608 ],\n",
              "         [0.45490196, 0.46666667, 0.49411765],\n",
              "         [0.41960785, 0.43137255, 0.45882353]],\n",
              "\n",
              "        [[0.5058824 , 0.52156866, 0.53333336],\n",
              "         [0.5254902 , 0.5411765 , 0.5529412 ],\n",
              "         [0.5294118 , 0.54509807, 0.5529412 ],\n",
              "         ...,\n",
              "         [0.45490196, 0.46666667, 0.49411765],\n",
              "         [0.44313726, 0.45490196, 0.48235294],\n",
              "         [0.4392157 , 0.4509804 , 0.47843137]],\n",
              "\n",
              "        [[0.5058824 , 0.52156866, 0.53333336],\n",
              "         [0.5137255 , 0.5294118 , 0.5411765 ],\n",
              "         [0.5176471 , 0.53333336, 0.54509807],\n",
              "         ...,\n",
              "         [0.45882353, 0.47058824, 0.49803922],\n",
              "         [0.45882353, 0.47058824, 0.49803922],\n",
              "         [0.4627451 , 0.4745098 , 0.5019608 ]]]], dtype=float32)"
            ]
          },
          "metadata": {},
          "execution_count": 19
        }
      ]
    },
    {
      "cell_type": "code",
      "source": [
        "test_data"
      ],
      "metadata": {
        "id": "oMQ-DZDSkswJ",
        "colab": {
          "base_uri": "https://localhost:8080/"
        },
        "outputId": "da3e4ed8-f2c4-4a29-db82-d26922e0ee73"
      },
      "execution_count": null,
      "outputs": [
        {
          "output_type": "execute_result",
          "data": {
            "text/plain": [
              "array([[[[0.3647059 , 0.38431373, 0.43137255],\n",
              "         [0.37254903, 0.39607844, 0.44313726],\n",
              "         [0.37254903, 0.40784314, 0.4509804 ],\n",
              "         ...,\n",
              "         [0.08235294, 0.12156863, 0.14509805],\n",
              "         [0.08235294, 0.12156863, 0.14509805],\n",
              "         [0.07450981, 0.11764706, 0.13725491]],\n",
              "\n",
              "        [[0.26666668, 0.3019608 , 0.35686275],\n",
              "         [0.24705882, 0.28627452, 0.34117648],\n",
              "         [0.2509804 , 0.3019608 , 0.3529412 ],\n",
              "         ...,\n",
              "         [0.07843138, 0.11764706, 0.13333334],\n",
              "         [0.07450981, 0.10980392, 0.12941177],\n",
              "         [0.07450981, 0.10980392, 0.1254902 ]],\n",
              "\n",
              "        [[0.21176471, 0.25882354, 0.32156864],\n",
              "         [0.2       , 0.2509804 , 0.3137255 ],\n",
              "         [0.20784314, 0.27058825, 0.3254902 ],\n",
              "         ...,\n",
              "         [0.10196079, 0.13725491, 0.14509805],\n",
              "         [0.09411765, 0.12941177, 0.13725491],\n",
              "         [0.09411765, 0.12941177, 0.14117648]],\n",
              "\n",
              "        ...,\n",
              "\n",
              "        [[0.5686275 , 0.60784316, 0.6313726 ],\n",
              "         [0.58431375, 0.62352943, 0.64705884],\n",
              "         [0.5882353 , 0.627451  , 0.654902  ],\n",
              "         ...,\n",
              "         [0.6117647 , 0.65882355, 0.6509804 ],\n",
              "         [0.5882353 , 0.63529414, 0.627451  ],\n",
              "         [0.5647059 , 0.6156863 , 0.60784316]],\n",
              "\n",
              "        [[0.54509807, 0.5882353 , 0.6117647 ],\n",
              "         [0.56078434, 0.6039216 , 0.627451  ],\n",
              "         [0.5764706 , 0.61960787, 0.6431373 ],\n",
              "         ...,\n",
              "         [0.6039216 , 0.6509804 , 0.6431373 ],\n",
              "         [0.5921569 , 0.6392157 , 0.6313726 ],\n",
              "         [0.58431375, 0.6313726 , 0.62352943]],\n",
              "\n",
              "        [[0.53333336, 0.5803922 , 0.6039216 ],\n",
              "         [0.5529412 , 0.6       , 0.62352943],\n",
              "         [0.56078434, 0.60784316, 0.6313726 ],\n",
              "         ...,\n",
              "         [0.5764706 , 0.62352943, 0.6156863 ],\n",
              "         [0.5803922 , 0.627451  , 0.61960787],\n",
              "         [0.5686275 , 0.6156863 , 0.60784316]]],\n",
              "\n",
              "\n",
              "       [[[0.827451  , 0.81960785, 0.84313726],\n",
              "         [0.8156863 , 0.80784315, 0.8392157 ],\n",
              "         [0.7764706 , 0.78431374, 0.81960785],\n",
              "         ...,\n",
              "         [0.7607843 , 0.7882353 , 0.8627451 ],\n",
              "         [0.7647059 , 0.78431374, 0.85882354],\n",
              "         [0.76862746, 0.7882353 , 0.85490197]],\n",
              "\n",
              "        [[0.8235294 , 0.81960785, 0.8392157 ],\n",
              "         [0.8117647 , 0.8039216 , 0.83137256],\n",
              "         [0.7882353 , 0.78431374, 0.8156863 ],\n",
              "         ...,\n",
              "         [0.76862746, 0.7882353 , 0.85882354],\n",
              "         [0.76862746, 0.78431374, 0.8509804 ],\n",
              "         [0.77254903, 0.78431374, 0.8509804 ]],\n",
              "\n",
              "        [[0.78431374, 0.7882353 , 0.8235294 ],\n",
              "         [0.76862746, 0.78039217, 0.8117647 ],\n",
              "         [0.75686276, 0.7647059 , 0.8039216 ],\n",
              "         ...,\n",
              "         [0.7647059 , 0.7882353 , 0.84705883],\n",
              "         [0.7647059 , 0.78039217, 0.8392157 ],\n",
              "         [0.7764706 , 0.7882353 , 0.84705883]],\n",
              "\n",
              "        ...,\n",
              "\n",
              "        [[0.7254902 , 0.7176471 , 0.7254902 ],\n",
              "         [0.7254902 , 0.7176471 , 0.7294118 ],\n",
              "         [0.7137255 , 0.7137255 , 0.7254902 ],\n",
              "         ...,\n",
              "         [0.32156864, 0.3137255 , 0.30980393],\n",
              "         [0.5882353 , 0.5764706 , 0.5686275 ],\n",
              "         [0.8235294 , 0.8235294 , 0.827451  ]],\n",
              "\n",
              "        [[0.7254902 , 0.70980394, 0.7137255 ],\n",
              "         [0.74509805, 0.73333335, 0.7372549 ],\n",
              "         [0.8117647 , 0.8039216 , 0.8117647 ],\n",
              "         ...,\n",
              "         [0.4509804 , 0.4117647 , 0.40784314],\n",
              "         [0.6509804 , 0.6156863 , 0.60784316],\n",
              "         [0.8980392 , 0.88235295, 0.8745098 ]],\n",
              "\n",
              "        [[0.7372549 , 0.72156864, 0.7176471 ],\n",
              "         [0.8862745 , 0.8784314 , 0.8745098 ],\n",
              "         [0.9882353 , 0.98039216, 0.9843137 ],\n",
              "         ...,\n",
              "         [0.98039216, 0.9843137 , 0.98039216],\n",
              "         [0.9607843 , 0.95686275, 0.95686275],\n",
              "         [0.8862745 , 0.88235295, 0.8745098 ]]],\n",
              "\n",
              "\n",
              "       [[[0.34117648, 0.6       , 0.7137255 ],\n",
              "         [0.34901962, 0.5921569 , 0.7019608 ],\n",
              "         [0.3529412 , 0.5921569 , 0.7058824 ],\n",
              "         ...,\n",
              "         [0.5647059 , 0.7058824 , 0.7607843 ],\n",
              "         [0.5019608 , 0.6901961 , 0.75686276],\n",
              "         [0.44313726, 0.654902  , 0.7372549 ]],\n",
              "\n",
              "        [[0.34117648, 0.59607846, 0.7058824 ],\n",
              "         [0.34901962, 0.5921569 , 0.7019608 ],\n",
              "         [0.35686275, 0.5921569 , 0.7058824 ],\n",
              "         ...,\n",
              "         [0.62352943, 0.70980394, 0.7647059 ],\n",
              "         [0.59607846, 0.69411767, 0.76862746],\n",
              "         [0.5686275 , 0.7019608 , 0.77254903]],\n",
              "\n",
              "        [[0.34901962, 0.59607846, 0.69803923],\n",
              "         [0.34509805, 0.58431375, 0.6862745 ],\n",
              "         [0.34901962, 0.5921569 , 0.69411767],\n",
              "         ...,\n",
              "         [0.73333335, 0.7921569 , 0.8509804 ],\n",
              "         [0.7529412 , 0.8       , 0.85882354],\n",
              "         [0.73333335, 0.7882353 , 0.8392157 ]],\n",
              "\n",
              "        ...,\n",
              "\n",
              "        [[0.6313726 , 0.69411767, 0.7529412 ],\n",
              "         [0.56078434, 0.6313726 , 0.7058824 ],\n",
              "         [0.21568628, 0.2784314 , 0.34901962],\n",
              "         ...,\n",
              "         [0.34509805, 0.42352942, 0.4862745 ],\n",
              "         [0.49019608, 0.54509807, 0.6       ],\n",
              "         [0.5372549 , 0.5882353 , 0.63529414]],\n",
              "\n",
              "        [[0.41568628, 0.49803922, 0.5764706 ],\n",
              "         [0.35686275, 0.42745098, 0.5254902 ],\n",
              "         [0.18431373, 0.25490198, 0.34509805],\n",
              "         ...,\n",
              "         [0.56078434, 0.6117647 , 0.654902  ],\n",
              "         [0.67058825, 0.70980394, 0.74509805],\n",
              "         [0.6862745 , 0.7176471 , 0.7490196 ]],\n",
              "\n",
              "        [[0.15294118, 0.2509804 , 0.34901962],\n",
              "         [0.09803922, 0.20392157, 0.3019608 ],\n",
              "         [0.0627451 , 0.15294118, 0.24313726],\n",
              "         ...,\n",
              "         [0.67058825, 0.69411767, 0.7254902 ],\n",
              "         [0.65882355, 0.6862745 , 0.7176471 ],\n",
              "         [0.6862745 , 0.70980394, 0.7411765 ]]],\n",
              "\n",
              "\n",
              "       ...,\n",
              "\n",
              "\n",
              "       [[[0.48235294, 0.5882353 , 0.79607844],\n",
              "         [0.47843137, 0.5803922 , 0.78431374],\n",
              "         [0.47843137, 0.5803922 , 0.78431374],\n",
              "         ...,\n",
              "         [0.45490196, 0.54901963, 0.75686276],\n",
              "         [0.45490196, 0.54509807, 0.7529412 ],\n",
              "         [0.44705883, 0.5372549 , 0.74509805]],\n",
              "\n",
              "        [[0.4745098 , 0.5764706 , 0.78039217],\n",
              "         [0.46666667, 0.5686275 , 0.76862746],\n",
              "         [0.47058824, 0.57254905, 0.77254903],\n",
              "         ...,\n",
              "         [0.44313726, 0.5372549 , 0.7411765 ],\n",
              "         [0.44313726, 0.53333336, 0.7372549 ],\n",
              "         [0.4392157 , 0.5294118 , 0.73333335]],\n",
              "\n",
              "        [[0.46666667, 0.5686275 , 0.77254903],\n",
              "         [0.45490196, 0.5568628 , 0.75686276],\n",
              "         [0.4627451 , 0.5647059 , 0.7647059 ],\n",
              "         ...,\n",
              "         [0.44313726, 0.5372549 , 0.7411765 ],\n",
              "         [0.44705883, 0.5372549 , 0.7411765 ],\n",
              "         [0.44705883, 0.5372549 , 0.7411765 ]],\n",
              "\n",
              "        ...,\n",
              "\n",
              "        [[0.4627451 , 0.49411765, 0.40392157],\n",
              "         [0.49411765, 0.5176471 , 0.46666667],\n",
              "         [0.50980395, 0.5294118 , 0.5176471 ],\n",
              "         ...,\n",
              "         [0.5647059 , 0.57254905, 0.61960787],\n",
              "         [0.5568628 , 0.57254905, 0.60784316],\n",
              "         [0.5647059 , 0.5764706 , 0.6117647 ]],\n",
              "\n",
              "        [[0.58431375, 0.5921569 , 0.63529414],\n",
              "         [0.5764706 , 0.58431375, 0.63529414],\n",
              "         [0.5764706 , 0.58431375, 0.64705884],\n",
              "         ...,\n",
              "         [0.59607846, 0.6039216 , 0.6431373 ],\n",
              "         [0.58431375, 0.59607846, 0.6313726 ],\n",
              "         [0.58431375, 0.59607846, 0.6313726 ]],\n",
              "\n",
              "        [[0.58431375, 0.5882353 , 0.6431373 ],\n",
              "         [0.5647059 , 0.5764706 , 0.6156863 ],\n",
              "         [0.5686275 , 0.5803922 , 0.60784316],\n",
              "         ...,\n",
              "         [0.6156863 , 0.61960787, 0.654902  ],\n",
              "         [0.5882353 , 0.6       , 0.63529414],\n",
              "         [0.5686275 , 0.5803922 , 0.6156863 ]]],\n",
              "\n",
              "\n",
              "       [[[0.5882353 , 0.5647059 , 0.5176471 ],\n",
              "         [0.5921569 , 0.5686275 , 0.52156866],\n",
              "         [0.5921569 , 0.5686275 , 0.52156866],\n",
              "         ...,\n",
              "         [0.627451  , 0.6039216 , 0.5411765 ],\n",
              "         [0.61960787, 0.59607846, 0.5372549 ],\n",
              "         [0.59607846, 0.57254905, 0.5254902 ]],\n",
              "\n",
              "        [[0.59607846, 0.57254905, 0.5254902 ],\n",
              "         [0.59607846, 0.57254905, 0.5254902 ],\n",
              "         [0.59607846, 0.57254905, 0.5254902 ],\n",
              "         ...,\n",
              "         [0.627451  , 0.6039216 , 0.5411765 ],\n",
              "         [0.61960787, 0.59607846, 0.5372549 ],\n",
              "         [0.6039216 , 0.5803922 , 0.5294118 ]],\n",
              "\n",
              "        [[0.59607846, 0.57254905, 0.52156866],\n",
              "         [0.59607846, 0.57254905, 0.52156866],\n",
              "         [0.59607846, 0.57254905, 0.52156866],\n",
              "         ...,\n",
              "         [0.6313726 , 0.6117647 , 0.5529412 ],\n",
              "         [0.62352943, 0.6039216 , 0.54901963],\n",
              "         [0.60784316, 0.58431375, 0.5372549 ]],\n",
              "\n",
              "        ...,\n",
              "\n",
              "        [[0.59607846, 0.59607846, 0.58431375],\n",
              "         [0.54901963, 0.5568628 , 0.5294118 ],\n",
              "         [0.5019608 , 0.50980395, 0.4627451 ],\n",
              "         ...,\n",
              "         [0.21568628, 0.21568628, 0.21176471],\n",
              "         [0.14117648, 0.14901961, 0.14901961],\n",
              "         [0.15686275, 0.16862746, 0.17254902]],\n",
              "\n",
              "        [[0.57254905, 0.5686275 , 0.5568628 ],\n",
              "         [0.54901963, 0.54509807, 0.5294118 ],\n",
              "         [0.49803922, 0.49803922, 0.47843137],\n",
              "         ...,\n",
              "         [0.22745098, 0.23137255, 0.23137255],\n",
              "         [0.14117648, 0.14901961, 0.14117648],\n",
              "         [0.1882353 , 0.19215687, 0.19607843]],\n",
              "\n",
              "        [[0.56078434, 0.5568628 , 0.5411765 ],\n",
              "         [0.54509807, 0.5411765 , 0.5254902 ],\n",
              "         [0.5529412 , 0.54901963, 0.53333336],\n",
              "         ...,\n",
              "         [0.27058825, 0.2784314 , 0.27058825],\n",
              "         [0.16470589, 0.17254902, 0.15686275],\n",
              "         [0.23529412, 0.23921569, 0.21568628]]],\n",
              "\n",
              "\n",
              "       [[[0.7647059 , 0.7607843 , 0.56078434],\n",
              "         [0.76862746, 0.7607843 , 0.58431375],\n",
              "         [0.80784315, 0.8       , 0.6313726 ],\n",
              "         ...,\n",
              "         [0.4627451 , 0.5411765 , 0.5529412 ],\n",
              "         [0.6039216 , 0.6862745 , 0.6784314 ],\n",
              "         [0.63529414, 0.7176471 , 0.7058824 ]],\n",
              "\n",
              "        [[0.8666667 , 0.84313726, 0.64705884],\n",
              "         [0.8862745 , 0.8627451 , 0.6784314 ],\n",
              "         [0.83137256, 0.8039216 , 0.61960787],\n",
              "         ...,\n",
              "         [0.42745098, 0.50980395, 0.5529412 ],\n",
              "         [0.42352942, 0.5058824 , 0.5411765 ],\n",
              "         [0.40784314, 0.49019608, 0.5294118 ]],\n",
              "\n",
              "        [[0.81960785, 0.8039216 , 0.654902  ],\n",
              "         [0.83137256, 0.8156863 , 0.67058825],\n",
              "         [0.83137256, 0.8117647 , 0.6627451 ],\n",
              "         ...,\n",
              "         [0.43529412, 0.5254902 , 0.5921569 ],\n",
              "         [0.4       , 0.49019608, 0.5568628 ],\n",
              "         [0.34509805, 0.43529412, 0.5137255 ]],\n",
              "\n",
              "        ...,\n",
              "\n",
              "        [[0.59607846, 0.6392157 , 0.3529412 ],\n",
              "         [0.5686275 , 0.6156863 , 0.32156864],\n",
              "         [0.6431373 , 0.6901961 , 0.38039216],\n",
              "         ...,\n",
              "         [0.6117647 , 0.627451  , 0.3372549 ],\n",
              "         [0.6666667 , 0.65882355, 0.39215687],\n",
              "         [0.7058824 , 0.6745098 , 0.38431373]],\n",
              "\n",
              "        [[0.58431375, 0.627451  , 0.34901962],\n",
              "         [0.5176471 , 0.57254905, 0.28235295],\n",
              "         [0.63529414, 0.6862745 , 0.38431373],\n",
              "         ...,\n",
              "         [0.5686275 , 0.5882353 , 0.32941177],\n",
              "         [0.58431375, 0.5921569 , 0.38039216],\n",
              "         [0.627451  , 0.6392157 , 0.34901962]],\n",
              "\n",
              "        [[0.6       , 0.6431373 , 0.4       ],\n",
              "         [0.52156866, 0.58431375, 0.32941177],\n",
              "         [0.5764706 , 0.627451  , 0.36078432],\n",
              "         ...,\n",
              "         [0.53333336, 0.5568628 , 0.3254902 ],\n",
              "         [0.4862745 , 0.5019608 , 0.3254902 ],\n",
              "         [0.54901963, 0.5764706 , 0.3137255 ]]]], dtype=float32)"
            ]
          },
          "metadata": {},
          "execution_count": 20
        }
      ]
    },
    {
      "cell_type": "code",
      "source": [
        "plot_images(training_data, training_labels, 4, 5)"
      ],
      "metadata": {
        "id": "OMhgwvTklqXd",
        "colab": {
          "base_uri": "https://localhost:8080/",
          "height": 527
        },
        "outputId": "6139eaa6-f70d-4f0c-d669-1907e72174c6"
      },
      "execution_count": null,
      "outputs": [
        {
          "output_type": "display_data",
          "data": {
            "text/plain": [
              "<Figure size 1500x600 with 20 Axes>"
            ],
            "image/png": "[encoded data removed]"
          },
          "metadata": {}
        }
      ]
    },
    {
      "cell_type": "markdown",
      "source": [
        "Aquí podemos ver más ejemplos del training que se está utilizando"
      ],
      "metadata": {
        "id": "wp9rFoC1Spv-"
      }
    },
    {
      "cell_type": "markdown",
      "source": [
        "#3. Partición de los datos\n",
        "\n",
        "a) Escriba un código que reserve 5000 imágenes de entrenamiento como conjunto de validación.\n",
        "\n",
        "b) Mezcle las etiquetas con las imágenes de entrenamiento. Es un error muy común etiquetar\n",
        "erróneamente las imágenes de entrenamiento olvidando permutar las etiquetas con las imágenes."
      ],
      "metadata": {
        "id": "4LJPBWVY5lBp"
      }
    },
    {
      "cell_type": "code",
      "source": [
        "import numpy as np\n",
        "\n",
        "def shuffle_and_partition(data, labels, train_fraction=0.8):\n",
        "\n",
        "    # Verifica que los datos y las etiquetas tengan la misma longitud\n",
        "    assert len(data) == len(labels)\n",
        "\n",
        "    np.random.seed(42)\n",
        "\n",
        "    # Genera índices aleatorios para barajar los datos y las etiquetas de la misma manera\n",
        "    indices = np.arange(len(data))\n",
        "    np.random.shuffle(indices)\n",
        "\n",
        "    #Se muestran los indices barajados\n",
        "    print(indices)\n",
        "\n",
        "    # Baraja los datos y las etiquetas\n",
        "    shuffled_data = data[indices]\n",
        "    shuffled_labels = labels[indices]\n",
        "\n",
        "    # Calcula el índice de corte para la partición de entrenamiento y validación\n",
        "    train_size = int(len(data) * train_fraction)\n",
        "\n",
        "    # Particiona los datos y las etiquetas en conjuntos de entrenamiento y validación\n",
        "    train_data = shuffled_data[:train_size]\n",
        "    train_labels = shuffled_labels[:train_size]\n",
        "    validation_data = shuffled_data[train_size:]\n",
        "    validation_labels = shuffled_labels[train_size:]\n",
        "\n",
        "    return train_data, train_labels, validation_data, validation_labels\n",
        "\n",
        "#5000 imágenes para el conjunto de validación corresponden a  10% de training_data\n",
        "train_data, train_labels, validation_data, validation_labels = shuffle_and_partition(training_data, training_labels, train_fraction=0.9)"
      ],
      "metadata": {
        "id": "Ce3prJaH5p-k",
        "colab": {
          "base_uri": "https://localhost:8080/"
        },
        "outputId": "da915718-8463-435f-8e52-ce3b55863647"
      },
      "execution_count": null,
      "outputs": [
        {
          "output_type": "stream",
          "name": "stdout",
          "text": [
            "[33553  9427   199 ... 38158   860 15795]\n",
            "[33553  9427   199 ... 38158   860 15795]\n"
          ]
        }
      ]
    },
    {
      "cell_type": "code",
      "source": [
        "validation_data.shape"
      ],
      "metadata": {
        "id": "jq1Cvzp76cxh",
        "colab": {
          "base_uri": "https://localhost:8080/"
        },
        "outputId": "3f919735-61a7-46cf-cffc-09111805df37"
      },
      "execution_count": null,
      "outputs": [
        {
          "output_type": "execute_result",
          "data": {
            "text/plain": [
              "(5000, 32, 32, 3)"
            ]
          },
          "metadata": {},
          "execution_count": 23
        }
      ]
    },
    {
      "cell_type": "code",
      "source": [
        "validation_labels.shape"
      ],
      "metadata": {
        "id": "z3dIQ1xM6fMj",
        "colab": {
          "base_uri": "https://localhost:8080/"
        },
        "outputId": "a4e1cfc8-0302-4bbf-ba00-35a7995362fe"
      },
      "execution_count": null,
      "outputs": [
        {
          "output_type": "execute_result",
          "data": {
            "text/plain": [
              "(5000,)"
            ]
          },
          "metadata": {},
          "execution_count": 24
        }
      ]
    },
    {
      "cell_type": "markdown",
      "source": [
        "#4. Implementación del Algoritmo de entrenamiento"
      ],
      "metadata": {
        "id": "4efroYjG-OGM"
      }
    },
    {
      "cell_type": "code",
      "source": [
        "print(train_data.shape)\n",
        "train_data"
      ],
      "metadata": {
        "id": "M9LE1hHT-4BR",
        "colab": {
          "base_uri": "https://localhost:8080/"
        },
        "outputId": "718fd6bd-2870-41cc-bf59-c24d6fa2d3ca"
      },
      "execution_count": null,
      "outputs": [
        {
          "output_type": "stream",
          "name": "stdout",
          "text": [
            "(45000, 32, 32, 3)\n"
          ]
        },
        {
          "output_type": "execute_result",
          "data": {
            "text/plain": [
              "array([[[[0.81960785, 0.79607844, 0.8117647 ],\n",
              "         [0.79607844, 0.7764706 , 0.8       ],\n",
              "         [0.78039217, 0.76862746, 0.79607844],\n",
              "         ...,\n",
              "         [0.49411765, 0.38431373, 0.36862746],\n",
              "         [0.42352942, 0.3019608 , 0.28235295],\n",
              "         [0.56078434, 0.44705883, 0.42352942]],\n",
              "\n",
              "        [[0.8235294 , 0.7647059 , 0.76862746],\n",
              "         [0.8235294 , 0.7882353 , 0.79607844],\n",
              "         [0.8039216 , 0.7882353 , 0.8       ],\n",
              "         ...,\n",
              "         [0.37254903, 0.2509804 , 0.23921569],\n",
              "         [0.40392157, 0.26666668, 0.2509804 ],\n",
              "         [0.5568628 , 0.4392157 , 0.41568628]],\n",
              "\n",
              "        [[0.78039217, 0.7058824 , 0.7019608 ],\n",
              "         [0.8       , 0.7529412 , 0.7490196 ],\n",
              "         [0.80784315, 0.7882353 , 0.78431374],\n",
              "         ...,\n",
              "         [0.3019608 , 0.18039216, 0.16862746],\n",
              "         [0.4117647 , 0.27450982, 0.2627451 ],\n",
              "         [0.57254905, 0.4627451 , 0.4392157 ]],\n",
              "\n",
              "        ...,\n",
              "\n",
              "        [[0.7647059 , 0.8156863 , 0.827451  ],\n",
              "         [0.70980394, 0.7490196 , 0.76862746],\n",
              "         [0.7176471 , 0.7490196 , 0.7764706 ],\n",
              "         ...,\n",
              "         [0.75686276, 0.7882353 , 0.78039217],\n",
              "         [0.74509805, 0.73333335, 0.7294118 ],\n",
              "         [0.7411765 , 0.6901961 , 0.6784314 ]],\n",
              "\n",
              "        [[0.78431374, 0.8352941 , 0.84705883],\n",
              "         [0.7529412 , 0.8       , 0.8156863 ],\n",
              "         [0.7411765 , 0.78431374, 0.8039216 ],\n",
              "         ...,\n",
              "         [0.7647059 , 0.78039217, 0.77254903],\n",
              "         [0.74509805, 0.7176471 , 0.7058824 ],\n",
              "         [0.7490196 , 0.69803923, 0.68235296]],\n",
              "\n",
              "        [[0.7882353 , 0.8352941 , 0.84313726],\n",
              "         [0.7607843 , 0.81960785, 0.81960785],\n",
              "         [0.7411765 , 0.80784315, 0.8117647 ],\n",
              "         ...,\n",
              "         [0.7607843 , 0.76862746, 0.77254903],\n",
              "         [0.7372549 , 0.7137255 , 0.7019608 ],\n",
              "         [0.74509805, 0.7058824 , 0.6901961 ]]],\n",
              "\n",
              "\n",
              "       [[[0.34117648, 0.34117648, 0.34117648],\n",
              "         [0.3372549 , 0.3372549 , 0.3372549 ],\n",
              "         [0.3372549 , 0.3372549 , 0.3372549 ],\n",
              "         ...,\n",
              "         [0.3372549 , 0.3372549 , 0.3372549 ],\n",
              "         [0.3372549 , 0.3372549 , 0.3372549 ],\n",
              "         [0.34117648, 0.34117648, 0.34117648]],\n",
              "\n",
              "        [[0.34509805, 0.34509805, 0.34509805],\n",
              "         [0.3372549 , 0.3372549 , 0.3372549 ],\n",
              "         [0.3372549 , 0.3372549 , 0.3372549 ],\n",
              "         ...,\n",
              "         [0.3529412 , 0.3529412 , 0.3529412 ],\n",
              "         [0.33333334, 0.33333334, 0.33333334],\n",
              "         [0.34117648, 0.34117648, 0.34117648]],\n",
              "\n",
              "        [[0.34509805, 0.34509805, 0.34509805],\n",
              "         [0.3372549 , 0.3372549 , 0.3372549 ],\n",
              "         [0.3372549 , 0.3372549 , 0.3372549 ],\n",
              "         ...,\n",
              "         [0.34509805, 0.34509805, 0.34509805],\n",
              "         [0.3372549 , 0.3372549 , 0.3372549 ],\n",
              "         [0.34509805, 0.34509805, 0.34509805]],\n",
              "\n",
              "        ...,\n",
              "\n",
              "        [[0.34509805, 0.34509805, 0.34509805],\n",
              "         [0.3372549 , 0.3372549 , 0.3372549 ],\n",
              "         [0.3372549 , 0.3372549 , 0.3372549 ],\n",
              "         ...,\n",
              "         [0.39607844, 0.39607844, 0.39607844],\n",
              "         [0.34509805, 0.34509805, 0.34509805],\n",
              "         [0.33333334, 0.33333334, 0.33333334]],\n",
              "\n",
              "        [[0.34901962, 0.34901962, 0.34901962],\n",
              "         [0.34901962, 0.34901962, 0.34901962],\n",
              "         [0.3372549 , 0.3372549 , 0.3372549 ],\n",
              "         ...,\n",
              "         [0.3019608 , 0.3019608 , 0.3019608 ],\n",
              "         [0.3254902 , 0.3254902 , 0.3254902 ],\n",
              "         [0.3372549 , 0.3372549 , 0.3372549 ]],\n",
              "\n",
              "        [[0.3372549 , 0.3372549 , 0.3372549 ],\n",
              "         [0.34117648, 0.34117648, 0.34117648],\n",
              "         [0.3372549 , 0.3372549 , 0.3372549 ],\n",
              "         ...,\n",
              "         [0.2901961 , 0.2901961 , 0.2901961 ],\n",
              "         [0.32941177, 0.32941177, 0.32941177],\n",
              "         [0.3372549 , 0.3372549 , 0.3372549 ]]],\n",
              "\n",
              "\n",
              "       [[[0.4745098 , 0.57254905, 0.7607843 ],\n",
              "         [0.47843137, 0.57254905, 0.7607843 ],\n",
              "         [0.4862745 , 0.5803922 , 0.76862746],\n",
              "         ...,\n",
              "         [0.48235294, 0.5803922 , 0.79607844],\n",
              "         [0.47843137, 0.5764706 , 0.7921569 ],\n",
              "         [0.47843137, 0.5764706 , 0.8       ]],\n",
              "\n",
              "        [[0.49019608, 0.5882353 , 0.78039217],\n",
              "         [0.49803922, 0.5921569 , 0.78039217],\n",
              "         [0.5019608 , 0.59607846, 0.7882353 ],\n",
              "         ...,\n",
              "         [0.5019608 , 0.6       , 0.8156863 ],\n",
              "         [0.49803922, 0.59607846, 0.80784315],\n",
              "         [0.49803922, 0.6       , 0.8156863 ]],\n",
              "\n",
              "        [[0.49803922, 0.5921569 , 0.78431374],\n",
              "         [0.5019608 , 0.59607846, 0.78431374],\n",
              "         [0.50980395, 0.6039216 , 0.7882353 ],\n",
              "         ...,\n",
              "         [0.50980395, 0.60784316, 0.8156863 ],\n",
              "         [0.5019608 , 0.6       , 0.80784315],\n",
              "         [0.5058824 , 0.6039216 , 0.8156863 ]],\n",
              "\n",
              "        ...,\n",
              "\n",
              "        [[0.4862745 , 0.5568628 , 0.654902  ],\n",
              "         [0.46666667, 0.5372549 , 0.627451  ],\n",
              "         [0.43137255, 0.5019608 , 0.5803922 ],\n",
              "         ...,\n",
              "         [0.4392157 , 0.54901963, 0.6784314 ],\n",
              "         [0.43529412, 0.5372549 , 0.6627451 ],\n",
              "         [0.44705883, 0.54509807, 0.6666667 ]],\n",
              "\n",
              "        [[0.41960785, 0.49803922, 0.60784316],\n",
              "         [0.4       , 0.47843137, 0.5764706 ],\n",
              "         [0.38431373, 0.4627451 , 0.5529412 ],\n",
              "         ...,\n",
              "         [0.41568628, 0.5294118 , 0.65882355],\n",
              "         [0.42352942, 0.5254902 , 0.6509804 ],\n",
              "         [0.43137255, 0.5294118 , 0.6509804 ]],\n",
              "\n",
              "        [[0.4       , 0.49411765, 0.6117647 ],\n",
              "         [0.34117648, 0.43529412, 0.5372549 ],\n",
              "         [0.32156864, 0.41568628, 0.50980395],\n",
              "         ...,\n",
              "         [0.38039216, 0.49019608, 0.62352943],\n",
              "         [0.3647059 , 0.46666667, 0.5921569 ],\n",
              "         [0.4117647 , 0.50980395, 0.6313726 ]]],\n",
              "\n",
              "\n",
              "       ...,\n",
              "\n",
              "\n",
              "       [[[0.6392157 , 0.5686275 , 0.30980393],\n",
              "         [0.44313726, 0.45882353, 0.19215687],\n",
              "         [0.44705883, 0.52156866, 0.17254902],\n",
              "         ...,\n",
              "         [0.3254902 , 0.4392157 , 0.10980392],\n",
              "         [0.3137255 , 0.42745098, 0.10980392],\n",
              "         [0.3137255 , 0.42352942, 0.11764706]],\n",
              "\n",
              "        [[0.7058824 , 0.62352943, 0.34117648],\n",
              "         [0.52156866, 0.5019608 , 0.2509804 ],\n",
              "         [0.50980395, 0.5411765 , 0.23921569],\n",
              "         ...,\n",
              "         [0.32941177, 0.44313726, 0.10980392],\n",
              "         [0.32156864, 0.43529412, 0.11372549],\n",
              "         [0.3254902 , 0.4392157 , 0.1254902 ]],\n",
              "\n",
              "        [[0.7254902 , 0.6509804 , 0.3647059 ],\n",
              "         [0.49803922, 0.49411765, 0.22745098],\n",
              "         [0.5529412 , 0.5294118 , 0.30980393],\n",
              "         ...,\n",
              "         [0.3254902 , 0.44313726, 0.10980392],\n",
              "         [0.32156864, 0.4392157 , 0.11372549],\n",
              "         [0.33333334, 0.44313726, 0.12941177]],\n",
              "\n",
              "        ...,\n",
              "\n",
              "        [[0.8       , 0.76862746, 0.5058824 ],\n",
              "         [0.7137255 , 0.6784314 , 0.40784314],\n",
              "         [0.4509804 , 0.47058824, 0.27058825],\n",
              "         ...,\n",
              "         [0.5372549 , 0.5529412 , 0.2627451 ],\n",
              "         [0.67058825, 0.6039216 , 0.33333334],\n",
              "         [0.5411765 , 0.52156866, 0.24313726]],\n",
              "\n",
              "        [[0.81960785, 0.76862746, 0.50980395],\n",
              "         [0.68235296, 0.6313726 , 0.37254903],\n",
              "         [0.42352942, 0.4392157 , 0.23137255],\n",
              "         ...,\n",
              "         [0.7176471 , 0.6156863 , 0.34901962],\n",
              "         [0.6117647 , 0.5529412 , 0.28627452],\n",
              "         [0.4745098 , 0.5254902 , 0.23921569]],\n",
              "\n",
              "        [[0.827451  , 0.7647059 , 0.5019608 ],\n",
              "         [0.6117647 , 0.6       , 0.30588236],\n",
              "         [0.35686275, 0.44313726, 0.14117648],\n",
              "         ...,\n",
              "         [0.54509807, 0.47843137, 0.23137255],\n",
              "         [0.50980395, 0.47843137, 0.22745098],\n",
              "         [0.5529412 , 0.5647059 , 0.28627452]]],\n",
              "\n",
              "\n",
              "       [[[0.47843137, 0.48235294, 0.4627451 ],\n",
              "         [0.38431373, 0.3882353 , 0.36862746],\n",
              "         [0.29803923, 0.3019608 , 0.2784314 ],\n",
              "         ...,\n",
              "         [0.26666668, 0.27058825, 0.2509804 ],\n",
              "         [0.15686275, 0.16078432, 0.14117648],\n",
              "         [0.28235295, 0.28627452, 0.26666668]],\n",
              "\n",
              "        [[0.59607846, 0.6       , 0.5803922 ],\n",
              "         [0.5882353 , 0.5921569 , 0.57254905],\n",
              "         [0.47843137, 0.48235294, 0.4627451 ],\n",
              "         ...,\n",
              "         [0.21960784, 0.22352941, 0.20392157],\n",
              "         [0.15686275, 0.16078432, 0.14117648],\n",
              "         [0.22352941, 0.22745098, 0.20784314]],\n",
              "\n",
              "        [[0.5647059 , 0.5686275 , 0.54901963],\n",
              "         [0.5176471 , 0.52156866, 0.5019608 ],\n",
              "         [0.29803923, 0.3019608 , 0.28235295],\n",
              "         ...,\n",
              "         [0.37254903, 0.3764706 , 0.35686275],\n",
              "         [0.27450982, 0.2784314 , 0.25882354],\n",
              "         [0.29803923, 0.3019608 , 0.28235295]],\n",
              "\n",
              "        ...,\n",
              "\n",
              "        [[0.59607846, 0.59607846, 0.59607846],\n",
              "         [0.61960787, 0.61960787, 0.61960787],\n",
              "         [0.63529414, 0.63529414, 0.63529414],\n",
              "         ...,\n",
              "         [0.34901962, 0.3529412 , 0.3372549 ],\n",
              "         [0.38039216, 0.38431373, 0.3647059 ],\n",
              "         [0.45882353, 0.4627451 , 0.44313726]],\n",
              "\n",
              "        [[0.627451  , 0.627451  , 0.627451  ],\n",
              "         [0.63529414, 0.63529414, 0.63529414],\n",
              "         [0.6745098 , 0.6745098 , 0.6745098 ],\n",
              "         ...,\n",
              "         [0.42745098, 0.43137255, 0.4117647 ],\n",
              "         [0.38431373, 0.3882353 , 0.36862746],\n",
              "         [0.33333334, 0.3372549 , 0.31764707]],\n",
              "\n",
              "        [[0.5568628 , 0.5568628 , 0.5568628 ],\n",
              "         [0.64705884, 0.64705884, 0.64705884],\n",
              "         [0.67058825, 0.67058825, 0.67058825],\n",
              "         ...,\n",
              "         [0.41568628, 0.41960785, 0.4       ],\n",
              "         [0.34117648, 0.34901962, 0.3254902 ],\n",
              "         [0.18431373, 0.1882353 , 0.16862746]]],\n",
              "\n",
              "\n",
              "       [[[0.6745098 , 0.6039216 , 0.7058824 ],\n",
              "         [0.69803923, 0.65882355, 0.7647059 ],\n",
              "         [0.6745098 , 0.627451  , 0.7254902 ],\n",
              "         ...,\n",
              "         [0.43137255, 0.4862745 , 0.5882353 ],\n",
              "         [0.43137255, 0.4862745 , 0.58431375],\n",
              "         [0.41568628, 0.47058824, 0.56078434]],\n",
              "\n",
              "        [[0.6745098 , 0.6039216 , 0.7058824 ],\n",
              "         [0.7019608 , 0.6627451 , 0.7647059 ],\n",
              "         [0.6666667 , 0.61960787, 0.72156864],\n",
              "         ...,\n",
              "         [0.5058824 , 0.5764706 , 0.6745098 ],\n",
              "         [0.5176471 , 0.60784316, 0.69803923],\n",
              "         [0.5176471 , 0.6039216 , 0.6745098 ]],\n",
              "\n",
              "        [[0.67058825, 0.60784316, 0.70980394],\n",
              "         [0.7019608 , 0.6745098 , 0.7764706 ],\n",
              "         [0.6666667 , 0.627451  , 0.72156864],\n",
              "         ...,\n",
              "         [0.49019608, 0.5568628 , 0.65882355],\n",
              "         [0.50980395, 0.5803922 , 0.69803923],\n",
              "         [0.54901963, 0.62352943, 0.7294118 ]],\n",
              "\n",
              "        ...,\n",
              "\n",
              "        [[0.5686275 , 0.6       , 0.64705884],\n",
              "         [0.47058824, 0.5294118 , 0.5921569 ],\n",
              "         [0.49019608, 0.5529412 , 0.6117647 ],\n",
              "         ...,\n",
              "         [0.6117647 , 0.54509807, 0.6509804 ],\n",
              "         [0.5411765 , 0.4745098 , 0.5764706 ],\n",
              "         [0.47058824, 0.40392157, 0.49803922]],\n",
              "\n",
              "        [[0.5764706 , 0.6       , 0.654902  ],\n",
              "         [0.45490196, 0.5176471 , 0.57254905],\n",
              "         [0.4745098 , 0.5372549 , 0.59607846],\n",
              "         ...,\n",
              "         [0.30980393, 0.15686275, 0.13725491],\n",
              "         [0.26666668, 0.11372549, 0.09803922],\n",
              "         [0.17254902, 0.0627451 , 0.04705882]],\n",
              "\n",
              "        [[0.5882353 , 0.60784316, 0.6627451 ],\n",
              "         [0.44313726, 0.50980395, 0.56078434],\n",
              "         [0.46666667, 0.5294118 , 0.5882353 ],\n",
              "         ...,\n",
              "         [0.3137255 , 0.16862746, 0.10980392],\n",
              "         [0.2784314 , 0.15686275, 0.10196079],\n",
              "         [0.22352941, 0.13333334, 0.09803922]]]], dtype=float32)"
            ]
          },
          "metadata": {},
          "execution_count": 25
        }
      ]
    },
    {
      "cell_type": "markdown",
      "source": [
        "a) Utilice píxeles sin procesar como características. En esta etapa, debería esperar precisiones entre el 25% y el 35%. Entrene su modelo con los siguientes números de ejemplos de entrenamiento: 100, 200, 500, 1000, 2000, 5000.\n",
        "----"
      ],
      "metadata": {
        "id": "-1W3zJhehfZ9"
      }
    },
    {
      "cell_type": "code",
      "source": [
        "def train_linear_svm(train_data, train_labels, validation_data, validation_labels, num_examples):\n",
        "    svm_classifier = SVC(kernel='linear')\n",
        "\n",
        "    subset_train_data = train_data[:num_examples]\n",
        "    subset_train_labels = train_labels[:num_examples]\n",
        "\n",
        "    svm_classifier.fit(subset_train_data.reshape(len(subset_train_data), -1), subset_train_labels)\n",
        "\n",
        "    train_predictions = svm_classifier.predict(train_data.reshape(len(train_data), -1))\n",
        "    validation_predictions = svm_classifier.predict(validation_data.reshape(len(validation_data), -1))\n",
        "\n",
        "    train_accuracy = accuracy_score(train_labels, train_predictions)\n",
        "    validation_accuracy = accuracy_score(validation_labels, validation_predictions)\n",
        "\n",
        "    return train_accuracy, validation_accuracy\n",
        "\n",
        "# Definir los números de ejemplos de entrenamiento a utilizar\n",
        "num_training_examples = [100, 200, 500, 1000, 2000, 5000]\n",
        "\n",
        "# Almacenar las precisiones en listas separadas para el conjunto de entrenamiento y validación\n",
        "train_accuracies = []\n",
        "validation_accuracies = []\n",
        "\n",
        "# Iterar sobre los números de ejemplos de entrenamiento y entrenar el clasificador SVM lineal\n",
        "for num_examples in num_training_examples:\n",
        "    train_accuracy, validation_accuracy = train_linear_svm(train_data, train_labels, validation_data, validation_labels, num_examples)\n",
        "    train_accuracies.append(train_accuracy)\n",
        "    validation_accuracies.append(validation_accuracy)\n",
        "    print(f\"Entrenado con {num_examples} ejemplos, Precisión de entrenamiento: {train_accuracy*100:.2f}%, Precisión de validación: {validation_accuracy*100:.2f}%\")"
      ],
      "metadata": {
        "colab": {
          "base_uri": "https://localhost:8080/"
        },
        "id": "2qsGnZVLgqBA",
        "outputId": "870e08a5-3ff7-47d2-b15b-7667f16e403b"
      },
      "execution_count": null,
      "outputs": [
        {
          "output_type": "stream",
          "name": "stdout",
          "text": [
            "Entrenado con 100 ejemplos, Precisión de entrenamiento: 25.16%, Precisión de validación: 24.44%\n",
            "Entrenado con 200 ejemplos, Precisión de entrenamiento: 26.89%, Precisión de validación: 25.96%\n",
            "Entrenado con 500 ejemplos, Precisión de entrenamiento: 29.34%, Precisión de validación: 28.30%\n",
            "Entrenado con 1000 ejemplos, Precisión de entrenamiento: 30.86%, Precisión de validación: 29.02%\n",
            "Entrenado con 2000 ejemplos, Precisión de entrenamiento: 33.04%, Precisión de validación: 31.04%\n",
            "Entrenado con 5000 ejemplos, Precisión de entrenamiento: 38.56%, Precisión de validación: 31.20%\n"
          ]
        }
      ]
    },
    {
      "cell_type": "markdown",
      "source": [
        "De estos resultados podemos concluir lo siguiente:\n",
        "\n",
        "Podemos observar que tanto la precisión de entrenamiento como la de validación aumentan a medida que se incrementa el número de ejemplos de entrenamiento. Esto es un indicador de que tener más datos ayuda al modelo a aprender mejor y generalizar más efectivamente.\n",
        "\n",
        "Podemos ver que la precisión de validación siempre es ligeramente más baja que la de entrenamiento, lo cual es positivo y sugiere que el modelo no está sufriendo de sobreajuste significativo.\n",
        "\n",
        "Las precisiones obtenidas son relativamente bajas, lo cual es normal para este conjunto de datos ya que se usan características simples como los píxeles brutos. La precisión máxima obtenida en la validación es del 31.20% con 5000 ejemplos, lo que está correcto en base a las expectativas iniciales para el clasificador SVM lineal utilizando píxeles brutos como características.\n",
        "\n",
        "\n"
      ],
      "metadata": {
        "id": "K2pI52pNMlAC"
      }
    },
    {
      "cell_type": "markdown",
      "source": [
        "b) Incluya un gráfico que muestre la cantidad de ejemplos frente a la precisión de entrenamiento y validación para el conjunto de datos.\n",
        "---"
      ],
      "metadata": {
        "id": "cnYMT5OOhsOP"
      }
    },
    {
      "cell_type": "code",
      "source": [
        "# Graficar la precisión en función del número de ejemplos de entrenamiento\n",
        "plt.plot(num_training_examples, train_accuracies, label='Training Accuracy')\n",
        "plt.plot(num_training_examples, validation_accuracies, label='Validation Accuracy')\n",
        "plt.xlabel('Number of Training Examples')\n",
        "plt.ylabel('Accuracy')\n",
        "plt.title('Accuracy vs. Number of Training Examples')\n",
        "plt.legend()\n",
        "plt.show()"
      ],
      "metadata": {
        "colab": {
          "base_uri": "https://localhost:8080/",
          "height": 472
        },
        "id": "fCitaHB1hrcK",
        "outputId": "08f81490-1768-4ea4-c438-dfc23c3b2601"
      },
      "execution_count": null,
      "outputs": [
        {
          "output_type": "display_data",
          "data": {
            "text/plain": [
              "<Figure size 640x480 with 1 Axes>"
            ],
            "image/png": "[encoded data removed]"
          },
          "metadata": {}
        }
      ]
    },
    {
      "cell_type": "markdown",
      "source": [
        "#Conclusiones"
      ],
      "metadata": {
        "id": "Lc2AYPfBbufi"
      }
    },
    {
      "cell_type": "markdown",
      "source": [
        "El proyecto consistió en cargar, procesar y analizar el conjunto de datos CIFAR-10 para entrenar un modelo SVM lineal destinado a clasificar imágenes basadas en sus píxeles brutos. Se llevó a cabo un meticuloso preprocesamiento de los datos, que incluyó la normalización y reestructuración necesarias para adaptar las imágenes a las especificaciones del modelo SVM. La evaluación estadística confirmó que las imágenes estaban equilibradamente distribuidas entre diez clases, facilitando un entrenamiento eficaz del modelo.\n",
        "\n",
        "La creación de una función para barajar y dividir los datos en conjuntos de entrenamiento y validación fue crucial para asegurar una evaluación justa del modelo, permitiendo medir adecuadamente la capacidad de generalización del modelo. La implementación del SVM y los experimentos con distintos tamaños de conjuntos de entrenamiento revelaron que, aunque la precisión mejora al aumentar la cantidad de datos, esta tiende a estabilizarse, lo que sugiere un límite en la capacidad de aprendizaje del modelo con las características actuales. Los gráficos generados proporcionaron una representación visual efectiva de cómo la precisión varía con el número de ejemplos de entrenamiento, ilustrando un punto de rendimientos decrecientes para el aumento de datos.\n",
        "\n",
        "\n",
        "##Modelo de clasificación SVM:##\n",
        "\n",
        "\n",
        "### Interpretación y Posibles Acciones:\n",
        "\n",
        "1. **Baja Precisión de Validación**: La precisión de validación, incluso en su punto más alto, está por debajo del 40%. Esto es indicativo de un modelo que podría no ser adecuado para la tarea de clasificación, posiblemente debido a la complejidad insuficiente para capturar la naturaleza de los datos o debido a características no lineales en los datos que un kernel lineal no puede manejar.\n",
        "\n",
        "2. **Mejora de Modelo**: Considerar el uso de un kernel diferente (como RBF, polinomial, etc.) que pueda capturar relaciones no lineales entre las características.\n",
        "\n",
        "\n",
        "3. **Alternativas de Modelos**: Si los ajustes no resultan en mejoras significativas, puede ser necesario explorar modelos de clasificación alternativos como redes neuronales, árboles de decisión o métodos de ensamble que puedan manejar mejor la complejidad de los datos.\n",
        "\n",
        "\n",
        "A pesar de la capacidad del SVM lineal de aprender con más datos, la gráfica indica que el modelo no está realizando una buena generalización en el conjunto de validación. Esto es crucial, ya que la habilidad para predecir correctamente en datos no vistos es el objetivo principal de un modelo de clasificación. Se necesitan pasos adicionales para mejorar el modelo, incluyendo la exploración de diferentes kernels, ajustes de hiperparámetros, y posiblemente la evaluación de otros algoritmos de clasificación más robustos a la complejidad y a la naturaleza potencialmente no lineal de los datos."
      ],
      "metadata": {
        "id": "kdIsl-y-Z0Um"
      }
    }
  ],
  "metadata": {
    "colab": {
      "provenance": [],
      "collapsed_sections": [
        "Y5UPUgfKdNMw",
        "OPDTC61gchHe",
        "oU-SgifudDuE",
        "4LJPBWVY5lBp",
        "4efroYjG-OGM",
        "Lc2AYPfBbufi"
      ]
    },
    "kernelspec": {
      "display_name": "Python 3",
      "name": "python3"
    },
    "language_info": {
      "name": "python"
    }
  },
  "nbformat": 4,
  "nbformat_minor": 0
}